{
 "cells": [
  {
   "cell_type": "code",
   "execution_count": 14,
   "metadata": {},
   "outputs": [
    {
     "name": "stdout",
     "output_type": "stream",
     "text": [
      "Collecting quantopian\n",
      "\u001b[31m  Could not find a version that satisfies the requirement quantopian (from versions: )\u001b[0m\n",
      "\u001b[31mNo matching distribution found for quantopian\u001b[0m\n"
     ]
    },
    {
     "ename": "ModuleNotFoundError",
     "evalue": "No module named 'quantopian'",
     "output_type": "error",
     "traceback": [
      "\u001b[0;31m---------------------------------------------------------------------------\u001b[0m",
      "\u001b[0;31mModuleNotFoundError\u001b[0m                       Traceback (most recent call last)",
      "\u001b[0;32m<ipython-input-14-1f890e189158>\u001b[0m in \u001b[0;36m<module>\u001b[0;34m()\u001b[0m\n\u001b[1;32m      1\u001b[0m \u001b[0mget_ipython\u001b[0m\u001b[0;34m(\u001b[0m\u001b[0;34m)\u001b[0m\u001b[0;34m.\u001b[0m\u001b[0msystem\u001b[0m\u001b[0;34m(\u001b[0m\u001b[0;34m'pip install quantopian'\u001b[0m\u001b[0;34m)\u001b[0m\u001b[0;34m\u001b[0m\u001b[0m\n\u001b[0;32m----> 2\u001b[0;31m \u001b[0;32mfrom\u001b[0m \u001b[0mquantopian\u001b[0m\u001b[0;34m.\u001b[0m\u001b[0mpipeline\u001b[0m \u001b[0;32mimport\u001b[0m \u001b[0mPipeline\u001b[0m\u001b[0;34m\u001b[0m\u001b[0m\n\u001b[0m\u001b[1;32m      3\u001b[0m \u001b[0;32mfrom\u001b[0m \u001b[0mquantopian\u001b[0m\u001b[0;34m.\u001b[0m\u001b[0mpipeline\u001b[0m\u001b[0;34m.\u001b[0m\u001b[0mfilters\u001b[0m \u001b[0;32mimport\u001b[0m \u001b[0mQ500US\u001b[0m\u001b[0;34m\u001b[0m\u001b[0m\n\u001b[1;32m      4\u001b[0m \u001b[0;32mfrom\u001b[0m \u001b[0mquantopian\u001b[0m\u001b[0;34m.\u001b[0m\u001b[0mpipeline\u001b[0m\u001b[0;34m.\u001b[0m\u001b[0mfactors\u001b[0m \u001b[0;32mimport\u001b[0m \u001b[0mCustomFactor\u001b[0m\u001b[0;34m\u001b[0m\u001b[0m\n\u001b[1;32m      5\u001b[0m \u001b[0;32mfrom\u001b[0m \u001b[0mquantopian\u001b[0m\u001b[0;34m.\u001b[0m\u001b[0mpipeline\u001b[0m\u001b[0;34m.\u001b[0m\u001b[0mdata\u001b[0m\u001b[0;34m.\u001b[0m\u001b[0mbuiltin\u001b[0m \u001b[0;32mimport\u001b[0m \u001b[0mUSEquityPricing\u001b[0m\u001b[0;34m\u001b[0m\u001b[0m\n",
      "\u001b[0;31mModuleNotFoundError\u001b[0m: No module named 'quantopian'"
     ]
    }
   ],
   "source": [
    "from quantopian.pipeline import Pipeline\n",
    "from quantopian.pipeline.filters import Q500US\n",
    "from quantopian.pipeline.factors import CustomFactor\n",
    "from quantopian.pipeline.data.builtin import USEquityPricing\n",
    "from quantopian.pipeline.classifiers.morningstar import Sector\n",
    "from quantopian.research import run_pipeline\n",
    "\n",
    "import alphalens\n",
    "\n",
    "# These imports can be found in the store panel for each dataset\n",
    "# (https://www.quantopian.com/data). Note that not all store datasets\n",
    "# can be used in pipeline yet.\n",
    "from quantopian.pipeline.data.alpha_vertex import (\n",
    "    # Top 100 Securities\n",
    "    precog_top_100 as dataset_100,\n",
    "    # Top 500 Securities\n",
    "    precog_top_500 as dataset_500\n",
    ")\n",
    "\n",
    "import pandas as pd\n",
    "import numpy as np\n",
    "import matplotlib.pyplot as plt\n",
    "\n",
    "\n",
    "\n",
    "class PredictionQuality(CustomFactor):\n",
    "    \"\"\"\n",
    "    create a customized factor to calculate the prediction quality\n",
    "    for each stock in the universe.\n",
    "    \n",
    "    compares the percentage of predictions with the correct sign \n",
    "    over a rolling window (3 weeks) for each stock\n",
    "   \n",
    "    \"\"\"\n",
    "    # data used to create custom factor\n",
    "    inputs = [dataset_500.predicted_five_day_log_return, USEquityPricing.close]\n",
    "    \n",
    "    # change this to what you want\n",
    "    window_length = 15\n",
    "\n",
    "    def compute(self, today, assets, out, pred_ret, px_close):\n",
    "        # actual returns\n",
    "        px_close_df = pd.DataFrame(data=px_close)\n",
    "        pred_ret_df = pd.DataFrame(data=pred_ret)\n",
    "        log_ret5_df = np.log(px_close_df) - np.log(px_close_df.shift(5))\n",
    "\n",
    "        log_ret5_df = log_ret5_df.iloc[5:].reset_index(drop=True)\n",
    "        n = len(log_ret5_df)\n",
    "        \n",
    "        # predicted returns\n",
    "        pred_ret_df = pred_ret_df.iloc[:n]\n",
    "\n",
    "        # number of predictions with incorrect sign\n",
    "        err_df = (np.sign(log_ret5_df) - np.sign(pred_ret_df)).abs() / 2.0\n",
    "\n",
    "        # custom quality measure\n",
    "        pred_quality = (1 - pd.ewma(err_df, min_periods=n, com=n)).iloc[-1].values\n",
    "        \n",
    "        out[:] = pred_quality\n",
    "\n",
    "        \n",
    "        \n",
    "class NormalizedReturn(CustomFactor):\n",
    "    \"\"\"\n",
    "    Custom Factor to calculate the normalized forward return \n",
    "       \n",
    "    scales the forward return expecation by the historical volatility\n",
    "    of returns\n",
    "    \n",
    "    \"\"\"\n",
    "\n",
    "    # data used to create custom factor\n",
    "    inputs = [dataset_500.predicted_five_day_log_return, USEquityPricing.close]\n",
    "    \n",
    "    # change this to what you want\n",
    "    window_length = 10\n",
    "\n",
    "    def compute(self, today, assets, out, pred_ret, px_close):\n",
    "        # mean return \n",
    "        avg_ret = np.nanmean(pred_ret[-1], axis =0)\n",
    "        \n",
    "        # standard deviation of returns\n",
    "        std_ret = np.nanstd(pred_ret[-1], axis=0)\n",
    "\n",
    "        # normalized returns\n",
    "        norm_ret = (pred_ret[-1] - avg_ret) / std_ret\n",
    "\n",
    "        out[:] = norm_ret\n",
    "\n",
    "\n",
    "\n",
    "START = '2018-02-13'\n",
    "END = '2018-02-13'\n",
    "\n",
    "MORNINGSTAR_SECTOR_CODES = {\n",
    "     -1: 'Misc',\n",
    "    101: 'Basic Materials',\n",
    "    102: 'Consumer Cyclical',\n",
    "    103: 'Financial Services',\n",
    "    104: 'Real Estate',\n",
    "    205: 'Consumer Defensive',\n",
    "    206: 'Healthcare',\n",
    "    207: 'Utilities',\n",
    "    308: 'Communication Services',\n",
    "    309: 'Energy',\n",
    "    310: 'Industrials',\n",
    "    311: 'Technology' ,    \n",
    "}"
   ]
  },
  {
   "cell_type": "code",
   "execution_count": null,
   "metadata": {
    "collapsed": true
   },
   "outputs": [],
   "source": [
    "# get stocks covered in the Q500 that have recent prediction data in AlphaVertex\n",
    "covered_stocks = Q500US() & dataset_500.predicted_five_day_log_return.latest.notnull()\n",
    "\n",
    "prediction_quality = PredictionQuality(mask=covered_stocks)\n",
    "quality = prediction_quality > 0.65\n",
    "normalized_return = NormalizedReturn(mask=quality)\n",
    "\n",
    "# create a pipeline of only stocks that are covered above\n",
    "pipe = Pipeline(\n",
    "    columns={\n",
    "        'predicted 5 day returns' : dataset_500.predicted_five_day_log_return.latest,\n",
    "        'normalized returns': normalized_return,\n",
    "        'sector' : Sector(mask=covered_stocks)\n",
    "    },\n",
    "    screen=covered_stocks\n",
    ")\n",
    "\n",
    "# run the pipeline\n",
    "pipe_output = run_pipeline(pipe, start_date=START, end_date=END)"
   ]
  },
  {
   "cell_type": "code",
   "execution_count": null,
   "metadata": {
    "collapsed": true
   },
   "outputs": [],
   "source": [
    "finance = {}\n",
    "technology = {}\n",
    "utilities = {}\n",
    "energy = {}\n",
    "for i in range(len(pipe_output['sector'])):\n",
    "    if(pipe_output['sector'][i] == 103 ):\n",
    "        finance[pipe_output.index[i]] = pipe_output['predicted 5 day returns'][i]\n",
    "    elif(pipe_output['sector'][i] == 311 ):\n",
    "        technology[pipe_output.index[i]] = pipe_output['predicted 5 day returns'][i]\n",
    "    elif(pipe_output['sector'][i] == 309 ):\n",
    "        energy[pipe_output.index[i]] = pipe_output['predicted 5 day returns'][i]    \n",
    "    elif(pipe_output['sector'][i] == 207 ):\n",
    "        finance[pipe_output.index[i]] = pipe_output['predicted 5 day returns'][i]"
   ]
  },
  {
   "cell_type": "code",
   "execution_count": null,
   "metadata": {
    "collapsed": true
   },
   "outputs": [],
   "source": [
    "sorted(finance.iteritems(), key=lambda (k,v): (v,k))[-10:]\n",
    "sorted(technology.iteritems(), key=lambda (k,v): (v,k))[-10:]\n",
    "sorted(utilities.iteritems(), key=lambda (k,v): (v,k))[-10:]\n",
    "sorted(energy.iteritems(), key=lambda (k,v): (v,k))[-10:]"
   ]
  }
 ],
 "metadata": {
  "kernelspec": {
   "display_name": "Python 3",
   "language": "python",
   "name": "python3"
  },
  "language_info": {
   "codemirror_mode": {
    "name": "ipython",
    "version": 3
   },
   "file_extension": ".py",
   "mimetype": "text/x-python",
   "name": "python",
   "nbconvert_exporter": "python",
   "pygments_lexer": "ipython3",
   "version": "3.6.1"
  }
 },
 "nbformat": 4,
 "nbformat_minor": 2
}
