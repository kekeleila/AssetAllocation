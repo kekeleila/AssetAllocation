{
 "cells": [
  {
   "cell_type": "code",
   "execution_count": 1,
   "metadata": {
    "collapsed": true
   },
   "outputs": [],
   "source": [
    "import fix_yahoo_finance as yf  \n",
    " \n"
   ]
  },
  {
   "cell_type": "code",
   "execution_count": 2,
   "metadata": {
    "collapsed": true
   },
   "outputs": [],
   "source": [
    "import numpy as np\n",
    "import pandas as pd\n",
    "import pandas_datareader.data as web\n",
    "import matplotlib.pyplot as plt\n",
    "\n",
    "def max_sharpe_port(stocks, start, end):\n",
    "    #download daily price data for each of the stocks in the portfolio\n",
    "    #data = web.DataReader(stocks,data_source='yahoo',start='01/01/2010')['Adj Close']\n",
    "    try:\n",
    "        data = yf.download(stocks,start,end)['Adj Close']\n",
    "    except:\n",
    "        return max_sharpe_port(stocks)\n",
    "    data.sort_index(inplace=True)\n",
    " \n",
    "    #convert daily stock prices into daily returns\n",
    "    returns = data.pct_change()\n",
    " \n",
    "    #calculate mean daily return and covariance of daily returns\n",
    "    mean_daily_returns = returns.mean()\n",
    "    cov_matrix = returns.cov()\n",
    " \n",
    "    #set number of runs of random portfolio weights\n",
    "    num_portfolios = 50000\n",
    " \n",
    "    #set up array to hold results\n",
    "    #We have increased the size of the array to hold the weight values for each stock\n",
    "    results = np.zeros((4+len(stocks)-1,num_portfolios))\n",
    " \n",
    "    for i in range(num_portfolios):\n",
    "        #select random weights for portfolio holdings\n",
    "        weights = np.array(np.random.random(len(stocks)))\n",
    "        #rebalance weights to sum to 1\n",
    "        weights /= np.sum(weights)\n",
    "    \n",
    "        #calculate portfolio return and volatility\n",
    "        portfolio_return = np.sum(mean_daily_returns * weights) * 252\n",
    "        portfolio_std_dev = np.sqrt(np.dot(weights.T,np.dot(cov_matrix, weights))) * np.sqrt(252)\n",
    "    \n",
    "        #store results in results array\n",
    "        results[0,i] = portfolio_return\n",
    "        results[1,i] = portfolio_std_dev\n",
    "        #store Sharpe Ratio (return / volatility) - risk free rate element excluded for simplicity\n",
    "        results[2,i] = results[0,i] / results[1,i]\n",
    "        #iterate through the weight vector and add data to results array\n",
    "        for j in range(len(weights)):\n",
    "            results[j+3,i] = weights[j]\n",
    "     \n",
    "    #convert results array to Pandas DataFrame\n",
    "    columns = ['ret', 'stdev', 'sharpe'] + stocks\n",
    "    results_frame = pd.DataFrame(results.T,columns= columns)\n",
    " \n",
    "    #locate position of portfolio with highest Sharpe Ratio\n",
    "    max_sharpe_port = results_frame.iloc[results_frame['sharpe'].idxmax()]\n",
    "    #locate positon of portfolio with minimum standard deviation\n",
    "    min_vol_port = results_frame.iloc[results_frame['stdev'].idxmin()]\n",
    " \n",
    "    #create scatter plot coloured by Sharpe Ratio\n",
    "    #plt.scatter(results_frame.stdev,results_frame.ret,c=results_frame.sharpe,cmap='RdYlBu')\n",
    "    #plt.xlabel('Volatility')\n",
    "    #plt.ylabel('Returns')\n",
    "    #plt.colorbar()\n",
    "    #plot red star to highlight position of portfolio with highest Sharpe Ratio\n",
    "    #plt.scatter(max_sharpe_port[1],max_sharpe_port[0],marker=(5,1,0),color='r',s=1000)\n",
    "    #plot green star to highlight position of minimum variance portfolio\n",
    "    #plt.scatter(min_vol_port[1],min_vol_port[0],marker=(5,1,0),color='g',s=1000)\n",
    "    #plt.show()\n",
    "    return max_sharpe_port"
   ]
  },
  {
   "cell_type": "code",
   "execution_count": 3,
   "metadata": {
    "collapsed": true
   },
   "outputs": [],
   "source": [
    "stocks = ['ALL',\n",
    " 'MMC',\n",
    " 'PGR',\n",
    " 'MA',\n",
    " 'AIG',\n",
    " 'AON',\n",
    " 'CME',\n",
    " 'CFG',\n",
    " 'RF',\n",
    " 'PYPL',\n",
    " 'ADBE',\n",
    " 'NVDA',\n",
    " 'FB',\n",
    " 'CTXS',\n",
    " 'XLNX',\n",
    " 'NTAP',\n",
    " 'ADSK',\n",
    " 'LRCX',\n",
    " 'AYI',\n",
    " 'AMD',\n",
    " 'WEC',\n",
    " 'SCG',\n",
    " 'CMS',\n",
    " 'XEL',\n",
    " 'NEE',\n",
    " 'EXC',\n",
    " 'PPL',\n",
    " 'PCG',\n",
    " 'NRG',\n",
    " 'CPN',\n",
    " 'VLO',\n",
    " 'EQT',\n",
    " 'WMB',\n",
    " 'KMI',\n",
    " 'CVX',\n",
    " 'RIG',\n",
    " 'NFX',\n",
    " 'SLB',\n",
    " 'ESV',\n",
    " 'SWN']"
   ]
  },
  {
   "cell_type": "code",
   "execution_count": 4,
   "metadata": {
    "collapsed": true
   },
   "outputs": [],
   "source": [
    "#Brenchmark = ['^GSPC']\n",
    "\n",
    "ETF = ['SPY', 'EEM', 'OIL', 'FXI', 'JNK', 'VCSH']"
   ]
  },
  {
   "cell_type": "code",
   "execution_count": 5,
   "metadata": {},
   "outputs": [
    {
     "ename": "UnboundLocalError",
     "evalue": "local variable 'max_sharpe_port' referenced before assignment",
     "output_type": "error",
     "traceback": [
      "\u001b[1;31m---------------------------------------------------------------------------\u001b[0m",
      "\u001b[1;31mKeyError\u001b[0m                                  Traceback (most recent call last)",
      "\u001b[1;32m<ipython-input-2-3f082a39a8f7>\u001b[0m in \u001b[0;36mmax_sharpe_port\u001b[1;34m(stocks, start, end)\u001b[0m\n\u001b[0;32m      9\u001b[0m     \u001b[1;32mtry\u001b[0m\u001b[1;33m:\u001b[0m\u001b[1;33m\u001b[0m\u001b[0m\n\u001b[1;32m---> 10\u001b[1;33m         \u001b[0mdata\u001b[0m \u001b[1;33m=\u001b[0m \u001b[0myf\u001b[0m\u001b[1;33m.\u001b[0m\u001b[0mdownload\u001b[0m\u001b[1;33m(\u001b[0m\u001b[0mstocks\u001b[0m\u001b[1;33m,\u001b[0m\u001b[0mstart\u001b[0m\u001b[1;33m,\u001b[0m\u001b[0mend\u001b[0m\u001b[1;33m)\u001b[0m\u001b[1;33m[\u001b[0m\u001b[1;34m'Adj Close'\u001b[0m\u001b[1;33m]\u001b[0m\u001b[1;33m\u001b[0m\u001b[0m\n\u001b[0m\u001b[0;32m     11\u001b[0m     \u001b[1;32mexcept\u001b[0m\u001b[1;33m:\u001b[0m\u001b[1;33m\u001b[0m\u001b[0m\n",
      "\u001b[1;32mC:\\Users\\qimik\\Anaconda3\\lib\\site-packages\\fix_yahoo_finance\\__init__.py\u001b[0m in \u001b[0;36mdownload\u001b[1;34m(tickers, start, end, as_panel, group_by, auto_adjust, progress, actions, threads, **kwargs)\u001b[0m\n\u001b[0;32m    168\u001b[0m                        \u001b[0mauto_adjust\u001b[0m\u001b[1;33m=\u001b[0m\u001b[0mauto_adjust\u001b[0m\u001b[1;33m,\u001b[0m \u001b[0mprogress\u001b[0m\u001b[1;33m=\u001b[0m\u001b[0mprogress\u001b[0m\u001b[1;33m,\u001b[0m\u001b[1;33m\u001b[0m\u001b[0m\n\u001b[1;32m--> 169\u001b[1;33m                        actions=actions, **kwargs)\n\u001b[0m\u001b[0;32m    170\u001b[0m     \u001b[1;31m# threaded download\u001b[0m\u001b[1;33m\u001b[0m\u001b[1;33m\u001b[0m\u001b[0m\n",
      "\u001b[1;32mC:\\Users\\qimik\\Anaconda3\\lib\\site-packages\\fix_yahoo_finance\\__init__.py\u001b[0m in \u001b[0;36mdownload_chunk\u001b[1;34m(tickers, start, end, auto_adjust, progress, actions, **kwargs)\u001b[0m\n\u001b[0;32m    328\u001b[0m         \u001b[1;31m# crumb, cookie = get_yahoo_crumb()\u001b[0m\u001b[1;33m\u001b[0m\u001b[1;33m\u001b[0m\u001b[0m\n\u001b[1;32m--> 329\u001b[1;33m         \u001b[0mget_yahoo_crumb\u001b[0m\u001b[1;33m(\u001b[0m\u001b[1;33m)\u001b[0m\u001b[1;33m\u001b[0m\u001b[0m\n\u001b[0m\u001b[0;32m    330\u001b[0m \u001b[1;33m\u001b[0m\u001b[0m\n",
      "\u001b[1;32mC:\\Users\\qimik\\Anaconda3\\lib\\site-packages\\fix_yahoo_finance\\__init__.py\u001b[0m in \u001b[0;36mget_yahoo_crumb\u001b[1;34m(force)\u001b[0m\n\u001b[0;32m     62\u001b[0m     \u001b[0mres\u001b[0m \u001b[1;33m=\u001b[0m \u001b[0m_requests\u001b[0m\u001b[1;33m.\u001b[0m\u001b[0mget\u001b[0m\u001b[1;33m(\u001b[0m\u001b[1;34m'https://finance.yahoo.com/quote/SPY/history'\u001b[0m\u001b[1;33m)\u001b[0m\u001b[1;33m\u001b[0m\u001b[0m\n\u001b[1;32m---> 63\u001b[1;33m     \u001b[0m_YAHOO_COOKIE\u001b[0m \u001b[1;33m=\u001b[0m \u001b[0mres\u001b[0m\u001b[1;33m.\u001b[0m\u001b[0mcookies\u001b[0m\u001b[1;33m[\u001b[0m\u001b[1;34m'B'\u001b[0m\u001b[1;33m]\u001b[0m\u001b[1;33m\u001b[0m\u001b[0m\n\u001b[0m\u001b[0;32m     64\u001b[0m \u001b[1;33m\u001b[0m\u001b[0m\n",
      "\u001b[1;32mC:\\Users\\qimik\\Anaconda3\\lib\\site-packages\\requests\\cookies.py\u001b[0m in \u001b[0;36m__getitem__\u001b[1;34m(self, name)\u001b[0m\n\u001b[0;32m    328\u001b[0m         \"\"\"\n\u001b[1;32m--> 329\u001b[1;33m         \u001b[1;32mreturn\u001b[0m \u001b[0mself\u001b[0m\u001b[1;33m.\u001b[0m\u001b[0m_find_no_duplicates\u001b[0m\u001b[1;33m(\u001b[0m\u001b[0mname\u001b[0m\u001b[1;33m)\u001b[0m\u001b[1;33m\u001b[0m\u001b[0m\n\u001b[0m\u001b[0;32m    330\u001b[0m \u001b[1;33m\u001b[0m\u001b[0m\n",
      "\u001b[1;32mC:\\Users\\qimik\\Anaconda3\\lib\\site-packages\\requests\\cookies.py\u001b[0m in \u001b[0;36m_find_no_duplicates\u001b[1;34m(self, name, domain, path)\u001b[0m\n\u001b[0;32m    399\u001b[0m             \u001b[1;32mreturn\u001b[0m \u001b[0mtoReturn\u001b[0m\u001b[1;33m\u001b[0m\u001b[0m\n\u001b[1;32m--> 400\u001b[1;33m         \u001b[1;32mraise\u001b[0m \u001b[0mKeyError\u001b[0m\u001b[1;33m(\u001b[0m\u001b[1;34m'name=%r, domain=%r, path=%r'\u001b[0m \u001b[1;33m%\u001b[0m \u001b[1;33m(\u001b[0m\u001b[0mname\u001b[0m\u001b[1;33m,\u001b[0m \u001b[0mdomain\u001b[0m\u001b[1;33m,\u001b[0m \u001b[0mpath\u001b[0m\u001b[1;33m)\u001b[0m\u001b[1;33m)\u001b[0m\u001b[1;33m\u001b[0m\u001b[0m\n\u001b[0m\u001b[0;32m    401\u001b[0m \u001b[1;33m\u001b[0m\u001b[0m\n",
      "\u001b[1;31mKeyError\u001b[0m: \"name='B', domain=None, path=None\"",
      "\nDuring handling of the above exception, another exception occurred:\n",
      "\u001b[1;31mUnboundLocalError\u001b[0m                         Traceback (most recent call last)",
      "\u001b[1;32m<ipython-input-5-b63c1c9ce600>\u001b[0m in \u001b[0;36m<module>\u001b[1;34m()\u001b[0m\n\u001b[1;32m----> 1\u001b[1;33m \u001b[0mmax_sharpe_port_stock_pre\u001b[0m \u001b[1;33m=\u001b[0m \u001b[0mmax_sharpe_port\u001b[0m\u001b[1;33m(\u001b[0m\u001b[0mstocks\u001b[0m\u001b[1;33m,\u001b[0m\u001b[1;34m'2017-02-15'\u001b[0m\u001b[1;33m,\u001b[0m\u001b[1;34m'2018-02-15'\u001b[0m\u001b[1;33m)\u001b[0m\u001b[1;33m\u001b[0m\u001b[0m\n\u001b[0m",
      "\u001b[1;32m<ipython-input-2-3f082a39a8f7>\u001b[0m in \u001b[0;36mmax_sharpe_port\u001b[1;34m(stocks, start, end)\u001b[0m\n\u001b[0;32m     10\u001b[0m         \u001b[0mdata\u001b[0m \u001b[1;33m=\u001b[0m \u001b[0myf\u001b[0m\u001b[1;33m.\u001b[0m\u001b[0mdownload\u001b[0m\u001b[1;33m(\u001b[0m\u001b[0mstocks\u001b[0m\u001b[1;33m,\u001b[0m\u001b[0mstart\u001b[0m\u001b[1;33m,\u001b[0m\u001b[0mend\u001b[0m\u001b[1;33m)\u001b[0m\u001b[1;33m[\u001b[0m\u001b[1;34m'Adj Close'\u001b[0m\u001b[1;33m]\u001b[0m\u001b[1;33m\u001b[0m\u001b[0m\n\u001b[0;32m     11\u001b[0m     \u001b[1;32mexcept\u001b[0m\u001b[1;33m:\u001b[0m\u001b[1;33m\u001b[0m\u001b[0m\n\u001b[1;32m---> 12\u001b[1;33m         \u001b[1;32mreturn\u001b[0m \u001b[0mmax_sharpe_port\u001b[0m\u001b[1;33m(\u001b[0m\u001b[0mstocks\u001b[0m\u001b[1;33m)\u001b[0m\u001b[1;33m\u001b[0m\u001b[0m\n\u001b[0m\u001b[0;32m     13\u001b[0m     \u001b[0mdata\u001b[0m\u001b[1;33m.\u001b[0m\u001b[0msort_index\u001b[0m\u001b[1;33m(\u001b[0m\u001b[0minplace\u001b[0m\u001b[1;33m=\u001b[0m\u001b[1;32mTrue\u001b[0m\u001b[1;33m)\u001b[0m\u001b[1;33m\u001b[0m\u001b[0m\n\u001b[0;32m     14\u001b[0m \u001b[1;33m\u001b[0m\u001b[0m\n",
      "\u001b[1;31mUnboundLocalError\u001b[0m: local variable 'max_sharpe_port' referenced before assignment"
     ]
    }
   ],
   "source": [
    "max_sharpe_port_stock_pre = max_sharpe_port(stocks,'2017-02-15','2018-02-15')"
   ]
  },
  {
   "cell_type": "code",
   "execution_count": null,
   "metadata": {},
   "outputs": [],
   "source": [
    "max_sharpe_port_stock_cur = max_sharpe_port(stocks,'2017-02-26','2018-02-26')"
   ]
  },
  {
   "cell_type": "code",
   "execution_count": null,
   "metadata": {},
   "outputs": [],
   "source": [
    "max_sharpe_port_etf_pre = max_sharpe_port(ETF,'2017-02-15','2018-02-15')"
   ]
  },
  {
   "cell_type": "code",
   "execution_count": null,
   "metadata": {},
   "outputs": [],
   "source": [
    "max_sharpe_port_etf_cur = max_sharpe_port(ETF,'2017-02-26','2018-02-26')"
   ]
  },
  {
   "cell_type": "code",
   "execution_count": null,
   "metadata": {
    "collapsed": true
   },
   "outputs": [],
   "source": [
    "previous_stocks = max_sharpe_port_stock_pre.as_matrix()\n",
    "current_stocks = max_sharpe_port_stock_cur.as_matrix()\n",
    "previous_etf = max_sharpe_port_etf_pre.as_matrix()\n",
    "current_etf = max_sharpe_port_etf_cur.as_matrix()"
   ]
  },
  {
   "cell_type": "code",
   "execution_count": null,
   "metadata": {
    "collapsed": true
   },
   "outputs": [],
   "source": [
    "stock_weight_change = current_stocks - previous_stocks\n",
    "etf_weight_change = current_etf - previous_etf"
   ]
  },
  {
   "cell_type": "code",
   "execution_count": null,
   "metadata": {},
   "outputs": [],
   "source": [
    "stock_data_cur = yf.download(stocks,'2018-02-26','2018-02-26')['Adj Close']"
   ]
  },
  {
   "cell_type": "code",
   "execution_count": null,
   "metadata": {},
   "outputs": [],
   "source": [
    "etf_data_cur = yf.download(ETF,'2018-02-26','2018-02-26')['Adj Close']"
   ]
  },
  {
   "cell_type": "code",
   "execution_count": null,
   "metadata": {},
   "outputs": [],
   "source": [
    "#change in dollar amount for each stock\n",
    "print(np.multiply(stock_data_cur,stock_weight_change[3:]))"
   ]
  },
  {
   "cell_type": "code",
   "execution_count": null,
   "metadata": {},
   "outputs": [],
   "source": [
    "print(np.multiply(etf_data_cur,etf_weight_change[3:]))"
   ]
  },
  {
   "cell_type": "code",
   "execution_count": null,
   "metadata": {
    "collapsed": true
   },
   "outputs": [],
   "source": [
    "def compute_return(stocks,start,end,max_sharpe_port):\n",
    "    try:\n",
    "        dataPrevious = yf.download(stocks,start,start)['Adj Close']\n",
    "        dataCurrent = yf.download(stocks,end,end)['Adj Close']\n",
    "    except:\n",
    "        return compute_return(stocks,start,end,max_sharpe_port)\n",
    "    previous = dataPrevious.as_matrix()\n",
    "    Current = dataCurrent.as_matrix()\n",
    "    \n",
    "    current_return = (Current - previous)/Current\n",
    "    weights = max_sharpe_port[3:]\n",
    "    weighted_return = np.dot((Current - previous)/Current,weights)\n",
    "    \n",
    "    return weighted_return\n",
    "    \n",
    "    \n",
    "    \n",
    "    "
   ]
  },
  {
   "cell_type": "code",
   "execution_count": null,
   "metadata": {
    "collapsed": true
   },
   "outputs": [],
   "source": [
    "def betaCalculate(stocks):\n",
    "    result = []\n",
    "    for i in stocks:\n",
    "        try:\n",
    "            ret = yf.download(i,'2017-02-26','2018-02-26')['Adj Close'].pct_change()[1:].values\n",
    "        except:\n",
    "            print('error') #betaCalculate(stocks)\n",
    "        result.append(ret)\n",
    "    return result"
   ]
  },
  {
   "cell_type": "code",
   "execution_count": null,
   "metadata": {},
   "outputs": [],
   "source": [
    "stockBeta = betaCalculate(stocks)"
   ]
  },
  {
   "cell_type": "code",
   "execution_count": null,
   "metadata": {},
   "outputs": [],
   "source": [
    "benchmarkBeta = betaCalculate(['^GSPC'])\n",
    "print(benchmarkBeta)"
   ]
  },
  {
   "cell_type": "code",
   "execution_count": null,
   "metadata": {},
   "outputs": [],
   "source": [
    "etfBeta = betaCalculate(ETF)"
   ]
  },
  {
   "cell_type": "code",
   "execution_count": null,
   "metadata": {},
   "outputs": [],
   "source": [
    "import statsmodels.api as sm"
   ]
  },
  {
   "cell_type": "code",
   "execution_count": null,
   "metadata": {
    "collapsed": true
   },
   "outputs": [],
   "source": [
    "from statsmodels import regression"
   ]
  },
  {
   "cell_type": "code",
   "execution_count": null,
   "metadata": {
    "collapsed": true
   },
   "outputs": [],
   "source": []
  },
  {
   "cell_type": "code",
   "execution_count": null,
   "metadata": {
    "collapsed": true
   },
   "outputs": [],
   "source": [
    "def linreg(ret_stocks, ret_benchMark):\n",
    "    ret_stocks = sm.add_constant(ret_stocks)\n",
    "    model = regression.linear_model.OLS(ret_benchMark, ret_stocks).fit()\n",
    "    ret_stocks = ret_stocks[:,1]\n",
    "    return model.params[0], model.params[1]\n",
    "#alpha,beta = linreg(etfBeta, benchmarkBeta)"
   ]
  },
  {
   "cell_type": "code",
   "execution_count": null,
   "metadata": {
    "collapsed": true
   },
   "outputs": [],
   "source": [
    "Aplha = []\n",
    "Beta = []\n",
    "for i in etfBeta:\n",
    "    #print(i.shape)\n",
    "    alpha,beta = linreg(list(i),benchmarkBeta[0])\n",
    "    Aplha.append(alpha)\n",
    "    Beta.append(beta)"
   ]
  },
  {
   "cell_type": "code",
   "execution_count": null,
   "metadata": {},
   "outputs": [],
   "source": [
    "len(benchmarkBeta[0])"
   ]
  },
  {
   "cell_type": "code",
   "execution_count": null,
   "metadata": {},
   "outputs": [],
   "source": [
    "np.dot(Beta,previous_etf[3:])"
   ]
  },
  {
   "cell_type": "code",
   "execution_count": null,
   "metadata": {},
   "outputs": [],
   "source": [
    "np.dot(Aplha,current_etf[3:])"
   ]
  },
  {
   "cell_type": "code",
   "execution_count": null,
   "metadata": {
    "collapsed": true
   },
   "outputs": [],
   "source": [
    "Aplha = []\n",
    "Beta = []\n",
    "for i in stockBeta:\n",
    "    #print(i.shape)\n",
    "    alpha,beta = linreg(list(i),benchmarkBeta[0])\n",
    "    Aplha.append(alpha)\n",
    "    Beta.append(beta)"
   ]
  },
  {
   "cell_type": "code",
   "execution_count": null,
   "metadata": {},
   "outputs": [],
   "source": [
    "np.dot(Beta,previous_stocks[3:])"
   ]
  },
  {
   "cell_type": "code",
   "execution_count": null,
   "metadata": {},
   "outputs": [],
   "source": [
    "np.dot(Aplha,current_stocks[3:])"
   ]
  },
  {
   "cell_type": "code",
   "execution_count": 6,
   "metadata": {},
   "outputs": [
    {
     "ename": "NameError",
     "evalue": "name 'current_stocks' is not defined",
     "output_type": "error",
     "traceback": [
      "\u001b[1;31m---------------------------------------------------------------------------\u001b[0m",
      "\u001b[1;31mNameError\u001b[0m                                 Traceback (most recent call last)",
      "\u001b[1;32m<ipython-input-6-2b507519f0f7>\u001b[0m in \u001b[0;36m<module>\u001b[1;34m()\u001b[0m\n\u001b[1;32m----> 1\u001b[1;33m \u001b[0mcurrent_stocks\u001b[0m\u001b[1;33m\u001b[0m\u001b[0m\n\u001b[0m",
      "\u001b[1;31mNameError\u001b[0m: name 'current_stocks' is not defined"
     ]
    }
   ],
   "source": [
    "current_stocks"
   ]
  },
  {
   "cell_type": "code",
   "execution_count": null,
   "metadata": {
    "collapsed": true
   },
   "outputs": [],
   "source": []
  }
 ],
 "metadata": {
  "kernelspec": {
   "display_name": "Python 3",
   "language": "python",
   "name": "python3"
  },
  "language_info": {
   "codemirror_mode": {
    "name": "ipython",
    "version": 3
   },
   "file_extension": ".py",
   "mimetype": "text/x-python",
   "name": "python",
   "nbconvert_exporter": "python",
   "pygments_lexer": "ipython3",
   "version": "3.6.1"
  }
 },
 "nbformat": 4,
 "nbformat_minor": 2
}
